{
 "cells": [
  {
   "cell_type": "markdown",
   "id": "48536f3a-7999-42ef-b499-fa1731741bd1",
   "metadata": {},
   "source": [
    "# **MENÚ DE PIZZA HAWUAIIANA**"
   ]
  },
  {
   "cell_type": "code",
   "execution_count": 14,
   "id": "2da60b12-62cd-419f-af7c-6d912455c334",
   "metadata": {},
   "outputs": [
    {
     "name": "stdout",
     "output_type": "stream",
     "text": [
      " Escoger los ingredientes adicionales para la pizza hawaiiana\n",
      "La pizza base cuesta = $ 8\n"
     ]
    }
   ],
   "source": [
    "print (\" Escoger los ingredientes adicionales para la pizza hawaiiana\")\n",
    "y= 8\n",
    "print (\"La pizza base cuesta =\",\"$\",y)"
   ]
  },
  {
   "cell_type": "code",
   "execution_count": 15,
   "id": "a9af7ebf-e443-4d6b-a717-05bce843987d",
   "metadata": {},
   "outputs": [],
   "source": [
    "j = \"champiñones\"\n",
    "j1= 1\n",
    "q = \"extra Queso mozzarella\"\n",
    "q1= 3\n",
    "p = \"extra Piña\"\n",
    "p1= 0.5\n",
    "jq= \"champiñones con extra queso mozzarella\"\n",
    "jq1= 4\n",
    "jp= \"champiñones con extra piña\"\n",
    "jp1= 1.5\n",
    "qp= \"extra queso mozzarella con extra piña\"\n",
    "qp1= 3.5\n",
    "jqp=\"champiñones con extra queso mozzarella y con extra piña\"\n",
    "jqp1= 4.5\n",
    "costo= y+j1\n",
    "costo1= y+q1\n",
    "costo2= y+p1\n",
    "costo3= y+jq1\n",
    "costo4= y+jp1\n",
    "costo5= y+qp1\n",
    "costo6= y+jqp1"
   ]
  },
  {
   "cell_type": "code",
   "execution_count": 16,
   "id": "f4088a58-17fd-469d-8909-e15e03d31c09",
   "metadata": {},
   "outputs": [
    {
     "name": "stdout",
     "output_type": "stream",
     "text": [
      "1 champiñones $ 1 \n",
      " 2 extra Queso mozzarella $ 3 \n",
      " 3 extra Piña $ 0.5 \n",
      " 4 champiñones con extra queso mozzarella $ 4 \n",
      " 5 champiñones con extra piña $ 1.5 \n",
      " 6 extra queso mozzarella con extra piña $ 3.5 \n",
      " 7 champiñones con extra queso mozzarella y con extra piña $ 4.5\n"
     ]
    }
   ],
   "source": [
    "print ( \"1\", j, \"$\",j1,\"\\n 2\", q,\"$\", q1, \"\\n 3\",p, \"$\", p1,\"\\n 4\", jq , \"$\", jq1 , \"\\n 5\", jp , \"$\", jp1, \"\\n 6\", qp, \"$\" , qp1, \"\\n 7\", jqp, \"$\", jqp1)"
   ]
  },
  {
   "cell_type": "code",
   "execution_count": 18,
   "id": "42994963-510d-4889-abd1-93fea2c38484",
   "metadata": {},
   "outputs": [
    {
     "name": "stdin",
     "output_type": "stream",
     "text": [
      "Escoja un ingrediente 7\n"
     ]
    },
    {
     "name": "stdout",
     "output_type": "stream",
     "text": [
      "Usted ha escogido champiñones con extra queso mozzarella y con extra piña como ingredientes extras, El costo es  12.5\n"
     ]
    }
   ],
   "source": [
    "x = int(input(\"Escoja un ingrediente\"))\n",
    "if x == 1:\n",
    "    print(\"Usted ha escogido champiñones como ingrediente extra, El costo es \",costo )\n",
    "elif x==2:\n",
    "    print(\"Usted ha escogido extra Queso mozzarella como ingrediente extra, El costo es \",costo1)\n",
    "elif x==3:\n",
    "    print(\"Usted ha escogido extra Piña como ingrediente extra, El costo es \",costo2)\n",
    "elif x==4:\n",
    "    print(\"Usted ha escogido champiñones con extra queso mozzarella como ingredientes extras, El costo es \",costo3)\n",
    "elif x==5:\n",
    "    print(\"Usted ha escogido champiñones con extra piña como ingredientes extras, El costo es \",costo4)\n",
    "elif x==6:\n",
    "    print(\"Usted ha escogido c extra queso mozzarella con extra piña como ingredientes extras, El costo es \",costo5)\n",
    "elif x==7:\n",
    "    print(\"Usted ha escogido champiñones con extra queso mozzarella y con extra piña como ingredientes extras, El costo es \",costo6)\n",
    "else:\n",
    "    print(\"Vuelva cuando guste\")"
   ]
  },
  {
   "cell_type": "code",
   "execution_count": null,
   "id": "bd49d294-26e4-4060-9c4e-129e6ecc0cde",
   "metadata": {},
   "outputs": [],
   "source": []
  }
 ],
 "metadata": {
  "kernelspec": {
   "display_name": "Python 3 (ipykernel)",
   "language": "python",
   "name": "python3"
  },
  "language_info": {
   "codemirror_mode": {
    "name": "ipython",
    "version": 3
   },
   "file_extension": ".py",
   "mimetype": "text/x-python",
   "name": "python",
   "nbconvert_exporter": "python",
   "pygments_lexer": "ipython3",
   "version": "3.9.13"
  }
 },
 "nbformat": 4,
 "nbformat_minor": 5
}
